{
 "cells": [
  {
   "cell_type": "code",
   "execution_count": 2,
   "metadata": {
    "collapsed": true
   },
   "outputs": [],
   "source": [
    "import enum\n",
    "import json\n",
    "import functools as ft\n",
    "import numpy as np\n",
    "import itertools as it\n",
    "from collections import namedtuple, defaultdict\n",
    "from fractions import Fraction"
   ]
  },
  {
   "cell_type": "code",
   "execution_count": 3,
   "metadata": {
    "collapsed": true
   },
   "outputs": [],
   "source": [
    "Point = lambda x,y: np.array([[x,y]]).T"
   ]
  },
  {
   "cell_type": "code",
   "execution_count": 4,
   "metadata": {
    "collapsed": true
   },
   "outputs": [],
   "source": [
    "class Block(enum.Enum):\n",
    "    Empty = \"\"\n",
    "    Red = \"red\"\n",
    "    Blue = \"blue\"\n",
    "    Green = \"green\"\n",
    "    #..."
   ]
  },
  {
   "cell_type": "code",
   "execution_count": 5,
   "metadata": {
    "collapsed": true
   },
   "outputs": [],
   "source": [
    "class Piece:    \n",
    "    kinds = {'O': [Point(-1/2,-1/2), Point(1/2,-1/2),\n",
    "                   Point(-1/2,1/2),  Point(1/2,1/2)],\n",
    "             'I': [Point(-3/2,1/2),  Point(-1/2,1/2),\n",
    "                   Point(1/2,1/2),   Point(3/2,1/2)],\n",
    "             'L': [Point(-1,0),      Point(0,0),\n",
    "                   Point( 1,0),      Point(1,1)],\n",
    "             'T': [Point(-1,0),      Point(0,0),\n",
    "                   Point( 0,1),      Point(1,0)],\n",
    "             'S': [Point(-1,0),      Point(0,0),\n",
    "                   Point( 0,1),      Point(1,0)]}\n",
    "    symmetry = np.array([[-1,0],[0,1]]).dot\n",
    "    kinds['Z'] = list(map(symmetry, kinds['S']))\n",
    "    kinds['J'] = list(map(symmetry, kinds['L']))\n",
    "    \n",
    "    colors = {'O': Block.Red,\n",
    "              'I': Block.Red,\n",
    "              'L': Block.Red,\n",
    "              'T': Block.Red,\n",
    "              'S': Block.Red,\n",
    "              'Z': Block.Red,\n",
    "              'J': Block.Red}\n",
    "    \n",
    "    def __init__(self, center):\n",
    "        self.center = center\n",
    "        self.blocks = []\n",
    "    \n",
    "    @classmethod\n",
    "    def factory(cls, kind, center):\n",
    "        p = Piece(center)\n",
    "        p.blocks = cls.kinds[kind]\n",
    "        return p\n",
    "    \n",
    "    def blocks_abs(self):\n",
    "        return [(p+self.center) for p in self.blocks]"
   ]
  },
  {
   "cell_type": "code",
   "execution_count": 6,
   "metadata": {
    "scrolled": true
   },
   "outputs": [
    {
     "ename": "SyntaxError",
     "evalue": "unexpected EOF while parsing (<ipython-input-6-f2b3a948fd38>, line 3)",
     "output_type": "error",
     "traceback": [
      "\u001b[1;36m  File \u001b[1;32m\"<ipython-input-6-f2b3a948fd38>\"\u001b[1;36m, line \u001b[1;32m3\u001b[0m\n\u001b[1;33m    \u001b[0m\n\u001b[1;37m    ^\u001b[0m\n\u001b[1;31mSyntaxError\u001b[0m\u001b[1;31m:\u001b[0m unexpected EOF while parsing\n"
     ]
    }
   ],
   "source": [
    "class State:\n",
    "    def __init__(self):\n",
    "        "
   ]
  },
  {
   "cell_type": "code",
   "execution_count": 7,
   "metadata": {},
   "outputs": [
    {
     "ename": "TypeError",
     "evalue": "__init__() takes 2 positional arguments but 3 were given",
     "output_type": "error",
     "traceback": [
      "\u001b[1;31m---------------------------------------------------------------------------\u001b[0m",
      "\u001b[1;31mTypeError\u001b[0m                                 Traceback (most recent call last)",
      "\u001b[1;32m<ipython-input-7-23cf185a2bb7>\u001b[0m in \u001b[0;36m<module>\u001b[1;34m()\u001b[0m\n\u001b[1;32m----> 1\u001b[1;33m \u001b[0mjson\u001b[0m\u001b[1;33m.\u001b[0m\u001b[0mdumps\u001b[0m\u001b[1;33m(\u001b[0m\u001b[0mPiece\u001b[0m\u001b[1;33m(\u001b[0m\u001b[1;34m'O'\u001b[0m\u001b[1;33m,\u001b[0m\u001b[0mPoint\u001b[0m\u001b[1;33m(\u001b[0m\u001b[1;36m0\u001b[0m\u001b[1;33m,\u001b[0m\u001b[1;36m0\u001b[0m\u001b[1;33m)\u001b[0m\u001b[1;33m)\u001b[0m\u001b[1;33m)\u001b[0m\u001b[1;33m\u001b[0m\u001b[0m\n\u001b[0m",
      "\u001b[1;31mTypeError\u001b[0m: __init__() takes 2 positional arguments but 3 were given"
     ]
    }
   ],
   "source": [
    "json.dumps(Piece('O',Point(0,0)))"
   ]
  },
  {
   "cell_type": "code",
   "execution_count": null,
   "metadata": {
    "collapsed": true
   },
   "outputs": [],
   "source": []
  }
 ],
 "metadata": {
  "kernelspec": {
   "display_name": "Python 3",
   "language": "python",
   "name": "python3"
  },
  "language_info": {
   "codemirror_mode": {
    "name": "ipython",
    "version": 3
   },
   "file_extension": ".py",
   "mimetype": "text/x-python",
   "name": "python",
   "nbconvert_exporter": "python",
   "pygments_lexer": "ipython3",
   "version": "3.6.1"
  }
 },
 "nbformat": 4,
 "nbformat_minor": 2
}
