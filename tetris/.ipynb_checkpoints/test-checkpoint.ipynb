{
 "cells": [
  {
   "cell_type": "code",
   "execution_count": 1,
   "metadata": {},
   "outputs": [],
   "source": [
    "import asyncio\n",
    "\n",
    "loop = asyncio.get_event_loop()"
   ]
  },
  {
   "cell_type": "code",
   "execution_count": 2,
   "metadata": {},
   "outputs": [],
   "source": [
    "async def ping(writer):\n",
    "    while True:\n",
    "        await asyncio.sleep(5)\n",
    "        writer.write(\"ping\\r\\n\".encode())\n",
    "        try:\n",
    "            await writer.drain()\n",
    "        except ConnectionError:\n",
    "            print(\"Connection closed by client.\")\n",
    "            writer.close()\n",
    "            return True"
   ]
  },
  {
   "cell_type": "code",
   "execution_count": 3,
   "metadata": {},
   "outputs": [],
   "source": [
    "async def print_mess(reader):\n",
    "    while not reader.at_eof():\n",
    "        mess = await reader.readline()\n",
    "        print(mess)"
   ]
  },
  {
   "cell_type": "code",
   "execution_count": 4,
   "metadata": {},
   "outputs": [],
   "source": [
    "def serve(reader, writer):\n",
    "    asyncio.ensure_future(ping(writer))\n",
    "    asyncio.ensure_future(print_mess(reader))"
   ]
  },
  {
   "cell_type": "code",
   "execution_count": 5,
   "metadata": {},
   "outputs": [],
   "source": [
    "server = loop.run_until_complete(asyncio.start_server(serve, host=\"localhost\", port=1234))"
   ]
  },
  {
   "cell_type": "code",
   "execution_count": 6,
   "metadata": {},
   "outputs": [
    {
     "name": "stdout",
     "output_type": "stream",
     "text": [
      "Server opened on ('127.0.0.1', 1234)\n"
     ]
    }
   ],
   "source": [
    "print(\"Server opened on {}\".format(server.sockets[0].getsockname()))"
   ]
  },
  {
   "cell_type": "code",
   "execution_count": 7,
   "metadata": {},
   "outputs": [
    {
     "name": "stdout",
     "output_type": "stream",
     "text": [
      "b'noop\\r\\n'\n",
      "Terminated by user (Ctrl+C)...\n",
      "Terminating all tasks...\n",
      "{<Task pending coro=<ping() running at <ipython-input-2-fd59e9f50f9b>:3> wait_for=<Future cancelled>>, <Task pending coro=<print_mess() running at <ipython-input-3-cb25011e70ac>:3> wait_for=<Future cancelled>>}\n",
      "Terminated.\n"
     ]
    }
   ],
   "source": [
    "try:\n",
    "    loop.run_forever()\n",
    "except KeyboardInterrupt:\n",
    "    print(\"Terminated by user (Ctrl+C)...\")\n",
    "finally:\n",
    "    server.close()\n",
    "    print(\"Terminating all tasks...\")\n",
    "    pending = asyncio.Task.all_tasks()\n",
    "    for p in pending:\n",
    "        p.cancel()\n",
    "    pending = asyncio.Task.all_tasks()\n",
    "    print(pending)\n",
    "    print(\"Terminated.\")\n",
    "    loop.stop()\n",
    "    loop.close()"
   ]
  },
  {
   "cell_type": "code",
   "execution_count": null,
   "metadata": {},
   "outputs": [],
   "source": []
  }
 ],
 "metadata": {
  "kernelspec": {
   "display_name": "Python 3",
   "language": "python",
   "name": "python3"
  },
  "language_info": {
   "codemirror_mode": {
    "name": "ipython",
    "version": 3
   },
   "file_extension": ".py",
   "mimetype": "text/x-python",
   "name": "python",
   "nbconvert_exporter": "python",
   "pygments_lexer": "ipython3",
   "version": "3.6.1"
  }
 },
 "nbformat": 4,
 "nbformat_minor": 2
}
