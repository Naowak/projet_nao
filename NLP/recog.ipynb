{
 "cells": [
  {
   "cell_type": "code",
   "execution_count": 30,
   "metadata": {},
   "outputs": [],
   "source": [
    "import speech_recognition as sr\n",
    "import spacy\n",
    "from tabulate import tabulate\n",
    "\n",
    "nlp = spacy.load('fr')"
   ]
  },
  {
   "cell_type": "code",
   "execution_count": 47,
   "metadata": {},
   "outputs": [
    {
     "name": "stdout",
     "output_type": "stream",
     "text": [
      "Say something!\n"
     ]
    }
   ],
   "source": [
    "# Record Audio\n",
    "r = sr.Recognizer()\n",
    "with sr.Microphone() as source:\n",
    "    print(\"Say something!\")\n",
    "    audio = r.listen(source)"
   ]
  },
  {
   "cell_type": "code",
   "execution_count": 48,
   "metadata": {},
   "outputs": [
    {
     "name": "stdout",
     "output_type": "stream",
     "text": [
      "You said: poser la pierre dans la colonne 5\n"
     ]
    }
   ],
   "source": [
    "# Speech recognition using Google Speech Recognition\n",
    "spoken = \"\"\n",
    "try:\n",
    "    # for testing purposes, we're just using the default API key\n",
    "    # to use another API key, use `r.recognize_google(audio, key=\"GOOGLE_SPEECH_RECOGNITION_API_KEY\")`\n",
    "    # instead of `r.recognize_google(audio)`\n",
    "    spoken = r.recognize_google(audio, language=\"fr-FR\")\n",
    "    print(\"You said: \" + spoken)\n",
    "except sr.UnknownValueError:\n",
    "    print(\"Google Speech Recognition could not understand audio\")\n",
    "except sr.RequestError as e:\n",
    "    print(\"Could not request results from Google Speech Recognition service; {0}\".format(e))"
   ]
  },
  {
   "cell_type": "code",
   "execution_count": 49,
   "metadata": {},
   "outputs": [],
   "source": [
    "doc = nlp(spoken)"
   ]
  },
  {
   "cell_type": "code",
   "execution_count": 50,
   "metadata": {},
   "outputs": [],
   "source": [
    "tokens = [[token.text, token.lemma_, token.pos_, token.tag_, token.dep_,\n",
    "           token.shape_] for token in doc]"
   ]
  },
  {
   "cell_type": "code",
   "execution_count": 51,
   "metadata": {},
   "outputs": [
    {
     "name": "stdout",
     "output_type": "stream",
     "text": [
      "text     lemma    pos    tag                                                          dep     shape\n",
      "-------  -------  -----  -----------------------------------------------------------  ------  -------\n",
      "poser    poser    VERB   VERB__VerbForm=Inf                                           ROOT    xxxx\n",
      "la       le       DET    DET__Definite=Def|Gender=Fem|Number=Sing|PronType=Art        det     xx\n",
      "pierre   pierre   NOUN   NOUN__Gender=Fem|Number=Sing                                 obj     xxxx\n",
      "dans     dan      ADP    ADP___                                                       case    xxxx\n",
      "la       le       DET    DET__Definite=Def|Gender=Fem|Number=Sing|PronType=Art        det     xx\n",
      "colonne  colonne  VERB   VERB__Mood=Sub|Number=Sing|Person=3|Tense=Pres|VerbForm=Fin  obl     xxxx\n",
      "5        5        NUM    NUM__NumType=Card                                            nummod  d\n"
     ]
    }
   ],
   "source": [
    "print(tabulate(tokens, headers=[\"text\",\"lemma\",\"pos\",\"tag\",\"dep\",\"shape\"]))"
   ]
  },
  {
   "cell_type": "code",
   "execution_count": null,
   "metadata": {},
   "outputs": [],
   "source": [
    "options = {'bg': '#09a3d5',\n",
    "           'color': 'white', 'font': 'Source Sans Pro'}\n",
    "spacy.displacy.render(doc, style='dep', jupyter=True, options=options)"
   ]
  },
  {
   "cell_type": "code",
   "execution_count": null,
   "metadata": {},
   "outputs": [],
   "source": []
  }
 ],
 "metadata": {
  "kernelspec": {
   "display_name": "Python 3",
   "language": "python",
   "name": "python3"
  },
  "language_info": {
   "codemirror_mode": {
    "name": "ipython",
    "version": 3
   },
   "file_extension": ".py",
   "mimetype": "text/x-python",
   "name": "python",
   "nbconvert_exporter": "python",
   "pygments_lexer": "ipython3",
   "version": "3.6.3"
  }
 },
 "nbformat": 4,
 "nbformat_minor": 2
}
